{
 "cells": [
  {
   "cell_type": "code",
   "execution_count": 160,
   "metadata": {
    "collapsed": false
   },
   "outputs": [],
   "source": [
    "import numpy as np\n",
    "import pandas as pd\n",
    "import matplotlib.pyplot as plt\n",
    "%matplotlib inline"
   ]
  },
  {
   "cell_type": "code",
   "execution_count": 150,
   "metadata": {
    "collapsed": true
   },
   "outputs": [],
   "source": [
    "gammadist = np.random.gamma(2, 5, 100)"
   ]
  },
  {
   "cell_type": "code",
   "execution_count": 151,
   "metadata": {
    "collapsed": false
   },
   "outputs": [
    {
     "data": {
      "image/png": "[encoded data removed]",
      "text/plain": [
       "<matplotlib.figure.Figure at 0xa8d2e84c>"
      ]
     },
     "metadata": {},
     "output_type": "display_data"
    }
   ],
   "source": [
    "plt.hist(gammadist)\n",
    "plt.show()"
   ]
  },
  {
   "cell_type": "code",
   "execution_count": 152,
   "metadata": {
    "collapsed": false
   },
   "outputs": [
    {
     "name": "stdout",
     "output_type": "stream",
     "text": [
      "10.5358999638\n"
     ]
    }
   ],
   "source": [
    "mean = np.mean(gammadist)\n",
    "print(mean)"
   ]
  },
  {
   "cell_type": "code",
   "execution_count": 153,
   "metadata": {
    "collapsed": false
   },
   "outputs": [
    {
     "name": "stdout",
     "output_type": "stream",
     "text": [
      "9.1145660857\n"
     ]
    }
   ],
   "source": [
    "std = np.std(gammadist)\n",
    "print(std)"
   ]
  },
  {
   "cell_type": "code",
   "execution_count": 154,
   "metadata": {
    "collapsed": false
   },
   "outputs": [
    {
     "data": {
      "image/png": "[encoded data removed]",
      "text/plain": [
       "<matplotlib.figure.Figure at 0xa8f482cc>"
      ]
     },
     "metadata": {},
     "output_type": "display_data"
    }
   ],
   "source": [
    "plt.hist(gammadist)\n",
    "plt.axvline(mean, color='b', linewidth=2)\n",
    "plt.axvline(mean + std, color='r', linestyle='dotted')\n",
    "plt.axvline(mean - std, color='r', linestyle='dotted')\n",
    "plt.show()"
   ]
  },
  {
   "cell_type": "markdown",
   "metadata": {},
   "source": [
    "The gamma distribution appears to share some properties with the normal distribution. The range from mean-std to mean+std looks like it containts the majority of the data points, although there is a good number of data points outside of that range as well. The mean appears to be close to the product of the two descriptive arguments of the gamma distribution generator.\n",
    "However, it does appear \"skewed\" in many cases. That is, there appear to be more data points outside of the mean+-std range on one side than on the other. This is especially apparent with parameters such that mean-std is close to zero.\n",
    "Let's look at some more specific things. Specificlly, the number of points within range mean+-std."
   ]
  },
  {
   "cell_type": "code",
   "execution_count": 155,
   "metadata": {
    "collapsed": false
   },
   "outputs": [
    {
     "name": "stdout",
     "output_type": "stream",
     "text": [
      "0.083\n",
      "0.097\n",
      "0.098\n"
     ]
    }
   ],
   "source": [
    "points_in_range1std = list(filter(lambda x: (mean-std) < x < (mean+std), gammadist))\n",
    "print(len(points_in_range1std)/len(dist3))\n",
    "points_in_range2std = list(filter(lambda x: (mean-(2*std)) < x < (mean+(2*std)), gammadist))\n",
    "print(len(points_in_range2std)/len(dist3))\n",
    "points_in_range3std = list(filter(lambda x: (mean-(3*std)) < x < (mean+(3*std)), gammadist))\n",
    "print(len(points_in_range3std)/len(dist3))"
   ]
  },
  {
   "cell_type": "markdown",
   "metadata": {},
   "source": [
    "If we fiddle with the descriptive parameters, we see that almost always there are more than 50% of the data points within the the +-1std range. Often times, it's even greater than the expected 68%. However, it varies greatly depending on the parameters, which means in general these descriptions are not incredibly useful."
   ]
  },
  {
   "cell_type": "code",
   "execution_count": 156,
   "metadata": {
    "collapsed": false
   },
   "outputs": [],
   "source": [
    "norm1 = np.random.normal(5, .5, 1000)\n",
    "norm2 = np.random.normal(10, 1, 1000)\n",
    "dist3 = norm1 + norm2"
   ]
  },
  {
   "cell_type": "code",
   "execution_count": 157,
   "metadata": {
    "collapsed": false
   },
   "outputs": [
    {
     "name": "stdout",
     "output_type": "stream",
     "text": [
      "the mean is: 14.955936157610505\n",
      "the standard deviation is: 9.114566085699302\n"
     ]
    },
    {
     "data": {
      "image/png": "[encoded data removed]",
      "text/plain": [
       "<matplotlib.figure.Figure at 0xa8f513cc>"
      ]
     },
     "metadata": {},
     "output_type": "display_data"
    }
   ],
   "source": [
    "mean = np.mean(dist3)\n",
    "print('the mean is: {}'.format(mean))\n",
    "print('the standard deviation is: {}'.format(std))\n",
    "std = np.std(dist3)\n",
    "plt.hist(dist3)\n",
    "plt.axvline(mean, color='b', linewidth=2)\n",
    "plt.axvline(mean + std, color='r', linestyle='dotted')\n",
    "plt.axvline(mean - std, color='r', linestyle='dotted')\n",
    "plt.show()"
   ]
  },
  {
   "cell_type": "code",
   "execution_count": 158,
   "metadata": {
    "collapsed": false
   },
   "outputs": [
    {
     "name": "stdout",
     "output_type": "stream",
     "text": [
      "0.677\n",
      "0.955\n",
      "0.996\n"
     ]
    }
   ],
   "source": [
    "points_in_range1std = list(filter(lambda x: (mean-std) < x < (mean+std), dist3))\n",
    "print(len(points_in_range1std)/len(dist3))\n",
    "points_in_range2std = list(filter(lambda x: (mean-(2*std)) < x < (mean+(2*std)), dist3))\n",
    "print(len(points_in_range2std)/len(dist3))\n",
    "points_in_range3std = list(filter(lambda x: (mean-(3*std)) < x < (mean+(3*std)), dist3))\n",
    "print(len(points_in_range3std)/len(dist3))"
   ]
  },
  {
   "cell_type": "markdown",
   "metadata": {},
   "source": [
    "We can see that the percentage of what falls within what range very closely matches the \"68 - 95 - 99.7\" normal distribution rule. That indicates that the sum of two normal distributions, equally weighted, may also be normal. That's not exactly what I expected... But good to know!\n",
    "Also, it's interesting to see (and not surprising) that the standard deviation of the combined sets is greater than the deviation of either one. "
   ]
  }
 ],
 "metadata": {
  "kernelspec": {
   "display_name": "Python 3",
   "language": "python",
   "name": "python3"
  },
  "language_info": {
   "codemirror_mode": {
    "name": "ipython",
    "version": 3
   },
   "file_extension": ".py",
   "mimetype": "text/x-python",
   "name": "python",
   "nbconvert_exporter": "python",
   "pygments_lexer": "ipython3",
   "version": "3.6.0"
  }
 },
 "nbformat": 4,
 "nbformat_minor": 2
}
